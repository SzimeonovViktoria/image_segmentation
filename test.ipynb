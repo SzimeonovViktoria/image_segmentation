{
 "cells": [
  {
   "cell_type": "code",
   "execution_count": 1,
   "metadata": {},
   "outputs": [
    {
     "name": "stdout",
     "output_type": "stream",
     "text": [
      "Requirement already satisfied: keras==2.3.1 in c:\\users\\szime\\anaconda3\\lib\\site-packages (2.3.1)\n",
      "Requirement already satisfied: scipy>=0.14 in c:\\users\\szime\\anaconda3\\lib\\site-packages (from keras==2.3.1) (1.7.1)\n",
      "Requirement already satisfied: pyyaml in c:\\users\\szime\\anaconda3\\lib\\site-packages (from keras==2.3.1) (6.0)\n",
      "Requirement already satisfied: numpy>=1.9.1 in c:\\users\\szime\\anaconda3\\lib\\site-packages (from keras==2.3.1) (1.20.3)\n",
      "Requirement already satisfied: keras-applications>=1.0.6 in c:\\users\\szime\\anaconda3\\lib\\site-packages (from keras==2.3.1) (1.0.8)\n",
      "Requirement already satisfied: keras-preprocessing>=1.0.5 in c:\\users\\szime\\anaconda3\\lib\\site-packages (from keras==2.3.1) (1.1.2)\n",
      "Requirement already satisfied: six>=1.9.0 in c:\\users\\szime\\anaconda3\\lib\\site-packages (from keras==2.3.1) (1.16.0)\n",
      "Requirement already satisfied: h5py in c:\\users\\szime\\anaconda3\\lib\\site-packages (from keras==2.3.1) (3.2.1)\n"
     ]
    },
    {
     "name": "stderr",
     "output_type": "stream",
     "text": [
      "ERROR: Could not find a version that satisfies the requirement tensorflow==2.1.0 (from versions: 2.5.0rc0, 2.5.0rc1, 2.5.0rc2, 2.5.0rc3, 2.5.0, 2.5.1, 2.5.2, 2.5.3, 2.6.0rc0, 2.6.0rc1, 2.6.0rc2, 2.6.0, 2.6.1, 2.6.2, 2.6.3, 2.7.0rc0, 2.7.0rc1, 2.7.0, 2.7.1, 2.8.0rc0, 2.8.0rc1, 2.8.0)\n",
      "ERROR: No matching distribution found for tensorflow==2.1.0\n"
     ]
    },
    {
     "name": "stdout",
     "output_type": "stream",
     "text": [
      "Requirement already satisfied: keras_applications==1.0.8 in c:\\users\\szime\\anaconda3\\lib\\site-packages (1.0.8)\n",
      "Requirement already satisfied: h5py in c:\\users\\szime\\anaconda3\\lib\\site-packages (from keras_applications==1.0.8) (3.2.1)\n",
      "Requirement already satisfied: numpy>=1.9.1 in c:\\users\\szime\\anaconda3\\lib\\site-packages (from keras_applications==1.0.8) (1.20.3)\n",
      "Requirement already satisfied: image-classifiers==1.0.0 in c:\\users\\szime\\anaconda3\\lib\\site-packages (1.0.0)\n",
      "Requirement already satisfied: keras-applications<=1.0.8,>=1.0.7 in c:\\users\\szime\\anaconda3\\lib\\site-packages (from image-classifiers==1.0.0) (1.0.8)\n",
      "Requirement already satisfied: numpy>=1.9.1 in c:\\users\\szime\\anaconda3\\lib\\site-packages (from keras-applications<=1.0.8,>=1.0.7->image-classifiers==1.0.0) (1.20.3)\n",
      "Requirement already satisfied: h5py in c:\\users\\szime\\anaconda3\\lib\\site-packages (from keras-applications<=1.0.8,>=1.0.7->image-classifiers==1.0.0) (3.2.1)\n",
      "Requirement already satisfied: efficientnet==1.0.0 in c:\\users\\szime\\anaconda3\\lib\\site-packages (1.0.0)\n",
      "Requirement already satisfied: keras-applications<=1.0.8,>=1.0.7 in c:\\users\\szime\\anaconda3\\lib\\site-packages (from efficientnet==1.0.0) (1.0.8)\n",
      "Requirement already satisfied: scikit-image in c:\\users\\szime\\anaconda3\\lib\\site-packages (from efficientnet==1.0.0) (0.18.3)\n",
      "Requirement already satisfied: numpy>=1.9.1 in c:\\users\\szime\\anaconda3\\lib\\site-packages (from keras-applications<=1.0.8,>=1.0.7->efficientnet==1.0.0) (1.20.3)\n",
      "Requirement already satisfied: h5py in c:\\users\\szime\\anaconda3\\lib\\site-packages (from keras-applications<=1.0.8,>=1.0.7->efficientnet==1.0.0) (3.2.1)\n",
      "Requirement already satisfied: scipy>=1.0.1 in c:\\users\\szime\\anaconda3\\lib\\site-packages (from scikit-image->efficientnet==1.0.0) (1.7.1)\n",
      "Requirement already satisfied: matplotlib!=3.0.0,>=2.0.0 in c:\\users\\szime\\anaconda3\\lib\\site-packages (from scikit-image->efficientnet==1.0.0) (3.4.3)\n",
      "Requirement already satisfied: networkx>=2.0 in c:\\users\\szime\\anaconda3\\lib\\site-packages (from scikit-image->efficientnet==1.0.0) (2.6.3)\n",
      "Requirement already satisfied: pillow!=7.1.0,!=7.1.1,>=4.3.0 in c:\\users\\szime\\anaconda3\\lib\\site-packages (from scikit-image->efficientnet==1.0.0) (8.4.0)\n",
      "Requirement already satisfied: imageio>=2.3.0 in c:\\users\\szime\\anaconda3\\lib\\site-packages (from scikit-image->efficientnet==1.0.0) (2.9.0)\n",
      "Requirement already satisfied: tifffile>=2019.7.26 in c:\\users\\szime\\anaconda3\\lib\\site-packages (from scikit-image->efficientnet==1.0.0) (2021.7.2)\n",
      "Requirement already satisfied: PyWavelets>=1.1.1 in c:\\users\\szime\\anaconda3\\lib\\site-packages (from scikit-image->efficientnet==1.0.0) (1.1.1)\n",
      "Requirement already satisfied: pyparsing>=2.2.1 in c:\\users\\szime\\anaconda3\\lib\\site-packages (from matplotlib!=3.0.0,>=2.0.0->scikit-image->efficientnet==1.0.0) (3.0.4)\n",
      "Requirement already satisfied: cycler>=0.10 in c:\\users\\szime\\anaconda3\\lib\\site-packages (from matplotlib!=3.0.0,>=2.0.0->scikit-image->efficientnet==1.0.0) (0.10.0)\n",
      "Requirement already satisfied: python-dateutil>=2.7 in c:\\users\\szime\\anaconda3\\lib\\site-packages (from matplotlib!=3.0.0,>=2.0.0->scikit-image->efficientnet==1.0.0) (2.8.2)\n",
      "Requirement already satisfied: kiwisolver>=1.0.1 in c:\\users\\szime\\anaconda3\\lib\\site-packages (from matplotlib!=3.0.0,>=2.0.0->scikit-image->efficientnet==1.0.0) (1.3.1)\n",
      "Requirement already satisfied: six in c:\\users\\szime\\anaconda3\\lib\\site-packages (from cycler>=0.10->matplotlib!=3.0.0,>=2.0.0->scikit-image->efficientnet==1.0.0) (1.16.0)\n",
      "Requirement already satisfied: segmentation-models in c:\\users\\szime\\anaconda3\\lib\\site-packages (1.0.1)\n",
      "Requirement already satisfied: keras-applications<=1.0.8,>=1.0.7 in c:\\users\\szime\\anaconda3\\lib\\site-packages (from segmentation-models) (1.0.8)\n",
      "Requirement already satisfied: image-classifiers==1.0.0 in c:\\users\\szime\\anaconda3\\lib\\site-packages (from segmentation-models) (1.0.0)\n",
      "Requirement already satisfied: efficientnet==1.0.0 in c:\\users\\szime\\anaconda3\\lib\\site-packages (from segmentation-models) (1.0.0)\n",
      "Requirement already satisfied: scikit-image in c:\\users\\szime\\anaconda3\\lib\\site-packages (from efficientnet==1.0.0->segmentation-models) (0.18.3)\n",
      "Requirement already satisfied: numpy>=1.9.1 in c:\\users\\szime\\anaconda3\\lib\\site-packages (from keras-applications<=1.0.8,>=1.0.7->segmentation-models) (1.20.3)\n",
      "Requirement already satisfied: h5py in c:\\users\\szime\\anaconda3\\lib\\site-packages (from keras-applications<=1.0.8,>=1.0.7->segmentation-models) (3.2.1)\n",
      "Requirement already satisfied: scipy>=1.0.1 in c:\\users\\szime\\anaconda3\\lib\\site-packages (from scikit-image->efficientnet==1.0.0->segmentation-models) (1.7.1)\n",
      "Requirement already satisfied: matplotlib!=3.0.0,>=2.0.0 in c:\\users\\szime\\anaconda3\\lib\\site-packages (from scikit-image->efficientnet==1.0.0->segmentation-models) (3.4.3)\n",
      "Requirement already satisfied: networkx>=2.0 in c:\\users\\szime\\anaconda3\\lib\\site-packages (from scikit-image->efficientnet==1.0.0->segmentation-models) (2.6.3)\n",
      "Requirement already satisfied: pillow!=7.1.0,!=7.1.1,>=4.3.0 in c:\\users\\szime\\anaconda3\\lib\\site-packages (from scikit-image->efficientnet==1.0.0->segmentation-models) (8.4.0)\n",
      "Requirement already satisfied: imageio>=2.3.0 in c:\\users\\szime\\anaconda3\\lib\\site-packages (from scikit-image->efficientnet==1.0.0->segmentation-models) (2.9.0)\n",
      "Requirement already satisfied: tifffile>=2019.7.26 in c:\\users\\szime\\anaconda3\\lib\\site-packages (from scikit-image->efficientnet==1.0.0->segmentation-models) (2021.7.2)\n",
      "Requirement already satisfied: PyWavelets>=1.1.1 in c:\\users\\szime\\anaconda3\\lib\\site-packages (from scikit-image->efficientnet==1.0.0->segmentation-models) (1.1.1)\n",
      "Requirement already satisfied: pyparsing>=2.2.1 in c:\\users\\szime\\anaconda3\\lib\\site-packages (from matplotlib!=3.0.0,>=2.0.0->scikit-image->efficientnet==1.0.0->segmentation-models) (3.0.4)\n",
      "Requirement already satisfied: python-dateutil>=2.7 in c:\\users\\szime\\anaconda3\\lib\\site-packages (from matplotlib!=3.0.0,>=2.0.0->scikit-image->efficientnet==1.0.0->segmentation-models) (2.8.2)\n",
      "Requirement already satisfied: kiwisolver>=1.0.1 in c:\\users\\szime\\anaconda3\\lib\\site-packages (from matplotlib!=3.0.0,>=2.0.0->scikit-image->efficientnet==1.0.0->segmentation-models) (1.3.1)\n",
      "Requirement already satisfied: cycler>=0.10 in c:\\users\\szime\\anaconda3\\lib\\site-packages (from matplotlib!=3.0.0,>=2.0.0->scikit-image->efficientnet==1.0.0->segmentation-models) (0.10.0)\n",
      "Requirement already satisfied: six in c:\\users\\szime\\anaconda3\\lib\\site-packages (from cycler>=0.10->matplotlib!=3.0.0,>=2.0.0->scikit-image->efficientnet==1.0.0->segmentation-models) (1.16.0)\n",
      "Requirement already satisfied: Keras==2.3.1 in c:\\users\\szime\\anaconda3\\lib\\site-packages (2.3.1)\n",
      "Requirement already satisfied: numpy>=1.9.1 in c:\\users\\szime\\anaconda3\\lib\\site-packages (from Keras==2.3.1) (1.20.3)\n",
      "Requirement already satisfied: keras-applications>=1.0.6 in c:\\users\\szime\\anaconda3\\lib\\site-packages (from Keras==2.3.1) (1.0.8)\n",
      "Requirement already satisfied: scipy>=0.14 in c:\\users\\szime\\anaconda3\\lib\\site-packages (from Keras==2.3.1) (1.7.1)\n",
      "Requirement already satisfied: keras-preprocessing>=1.0.5 in c:\\users\\szime\\anaconda3\\lib\\site-packages (from Keras==2.3.1) (1.1.2)\n",
      "Requirement already satisfied: six>=1.9.0 in c:\\users\\szime\\anaconda3\\lib\\site-packages (from Keras==2.3.1) (1.16.0)\n",
      "Requirement already satisfied: pyyaml in c:\\users\\szime\\anaconda3\\lib\\site-packages (from Keras==2.3.1) (6.0)\n",
      "Requirement already satisfied: h5py in c:\\users\\szime\\anaconda3\\lib\\site-packages (from Keras==2.3.1) (3.2.1)\n"
     ]
    }
   ],
   "source": [
    "!pip install keras==2.3.1\n",
    "!pip install tensorflow==2.1.0\n",
    "!pip install keras_applications==1.0.8\n",
    "!pip install image-classifiers==1.0.0\n",
    "!pip install efficientnet==1.0.0\n",
    "!pip install segmentation-models\n",
    "!pip install \"Keras==2.3.1\"\n",
    "!pip install \"apache-airflow[celery,devel,postgres,redis,s3,ssh]==1.10.9\"\n",
    "!pip install \"keras-models==0.0.7\"\n",
    "!pip install tensorboard==1.14.0\n",
    "\n",
    "#!pip uninstall tensorflow\n",
    "#!pip install tensorflow"
   ]
  },
  {
   "cell_type": "code",
   "execution_count": null,
   "metadata": {},
   "outputs": [],
   "source": [
    "conda activate tensorflow"
   ]
  },
  {
   "cell_type": "code",
   "execution_count": null,
   "metadata": {},
   "outputs": [],
   "source": [
    "from numpy.random import seed\n",
    "seed(101)\n",
    "\n",
    "import pandas as pd\n",
    "import numpy as np\n",
    "import os\n",
    "import random\n",
    "import imageio\n",
    "\n",
    "import skimage\n",
    "import skimage.io\n",
    "import skimage.transform\n",
    "from skimage.io import imread, imshow, concatenate_images\n",
    "from skimage.transform import resize\n",
    "\n",
    "\n",
    "from sklearn.utils import shuffle\n",
    "from sklearn.model_selection import train_test_split\n",
    "\n",
    "import itertools\n",
    "import shutil\n",
    "import matplotlib.pyplot as plt\n",
    "%matplotlib inline\n",
    "\n",
    "from tensorflow.keras import layers\n",
    "from keras.layers import Input\n",
    "\n",
    "plt.style.use(\"ggplot\")\n",
    "\n",
    "import cv2\n",
    "from tqdm import tqdm_notebook, tnrange\n",
    "from glob import glob\n",
    "from itertools import chain\n",
    "from skimage.morphology import label\n",
    "from sklearn.model_selection import train_test_split\n",
    "\n",
    "import tensorflow as tf\n",
    "from skimage.color import rgb2gray\n",
    "from tensorflow.keras import Input\n",
    "from tensorflow.keras.models import Model, load_model, save_model\n",
    "from tensorflow.keras.layers import Input, Activation, BatchNormalization, Dropout, Lambda, Conv2D, Conv2DTranspose, MaxPooling2D, concatenate\n",
    "from tensorflow.keras.optimizers import Adam\n",
    "from tensorflow.keras.callbacks import EarlyStopping, ModelCheckpoint\n",
    "\n",
    "from tensorflow.keras import backend as K\n",
    "from tensorflow.keras.preprocessing.image import ImageDataGenerator\n",
    "from tensorflow.keras.callbacks import EarlyStopping, ModelCheckpoint\n",
    "\n",
    "from tensorflow.keras.models import Sequential\n",
    "from tensorflow.keras.layers import Dense, Flatten, MaxPool2D, Dropout\n",
    "\n",
    "import keras\n",
    "\n",
    "keras.backend.clear_session()"
   ]
  },
  {
   "cell_type": "code",
   "execution_count": null,
   "metadata": {},
   "outputs": [],
   "source": [
    "base_path = '../archive'\n",
    "os.listdir(base_path)"
   ]
  },
  {
   "cell_type": "code",
   "execution_count": null,
   "metadata": {},
   "outputs": [],
   "source": [
    "IMAGE_HEIGHT_ORIG = 650\n",
    "IMAGE_WIDTH_ORIG = 650\n",
    "\n",
    "NUM_TEST_IMAGES = 10 # 10 with intracranial hem + 10 without intracranial hem\n",
    "\n",
    "IMAGE_HEIGHT = 256\n",
    "IMAGE_WIDTH = 256\n",
    "IMAGE_CHANNELS = 3\n",
    "\n",
    "BATCH_SIZE = 10"
   ]
  },
  {
   "cell_type": "code",
   "execution_count": null,
   "metadata": {},
   "outputs": [],
   "source": [
    "path = base_path + 'Patients_CT'\n",
    "\n",
    "folder_list = os.listdir(path)\n",
    "\n",
    "len(folder_list)"
   ]
  },
  {
   "cell_type": "code",
   "execution_count": null,
   "metadata": {},
   "outputs": [],
   "source": [
    "# mask\n",
    "\n",
    "fname = df_diag.loc[index, 'new_mask_fname']\n",
    "path = 'mask_dir/' + fname\n",
    "# read the image as a matrix\n",
    "mask = plt.imread(path)\n",
    "\n",
    "print(mask.shape)\n",
    "\n",
    "plt.imshow(mask, cmap='Blues', alpha=0.7)"
   ]
  },
  {
   "cell_type": "code",
   "execution_count": null,
   "metadata": {},
   "outputs": [],
   "source": [
    "IMAGE_PATH = 'mask_dir/'\n",
    "\n",
    "draw_category_masks('Has_Hemorrhage',4, df_diag, IMAGE_PATH)"
   ]
  },
  {
   "cell_type": "code",
   "execution_count": null,
   "metadata": {},
   "outputs": [],
   "source": [
    "NUM_TEST_IMAGES = 10\n",
    "\n",
    "\n",
    "# get 10 images without hemorrhages\n",
    "\n",
    "df = df_diag[df_diag['Has_Hemorrhage'] == 0]\n",
    "\n",
    "df_no_hem = df.sample(NUM_TEST_IMAGES, random_state=101)\n",
    "\n",
    "# Reset the index.\n",
    "df_no_hem = df_no_hem.reset_index(drop=True)\n",
    "\n",
    "# create a list of images\n",
    "test_images_list = list(df_no_hem['new_mask_fname'])\n",
    "\n",
    "\n",
    "# Select only rows that are not part of the test set.\n",
    "# Note the use of ~ to execute 'not in'.\n",
    "df_diag = df_diag[~df_diag['new_mask_fname'].isin(test_images_list)]\n",
    "\n",
    "\n",
    "# get 10 images with hemorrhages\n",
    "\n",
    "df = df_diag[df_diag['Has_Hemorrhage'] == 1]\n",
    "\n",
    "df_with_hem = df.sample(NUM_TEST_IMAGES, random_state=102)\n",
    "\n",
    "# Reset the index.\n",
    "df_with_hem = df_with_hem.reset_index(drop=True)\n",
    "\n",
    "# create a list of images\n",
    "test_images_list = list(df_with_hem['new_mask_fname'])\n",
    "\n",
    "\n",
    "# Select only rows that are not part of the test set.\n",
    "# Note the use of ~ to execute 'not in'.\n",
    "df_diag = df_diag[~df_diag['new_mask_fname'].isin(test_images_list)]\n",
    "\n",
    "\n",
    "# create the test set\n",
    "df_test = pd.concat([df_with_hem, df_no_hem], axis=0).reset_index(drop=True)\n",
    "\n",
    "\n",
    "\n",
    "print(df_diag.shape)\n",
    "print(df_test.shape)"
   ]
  },
  {
   "cell_type": "code",
   "execution_count": null,
   "metadata": {},
   "outputs": [],
   "source": [
    "df_test.to_csv('df_test.csv.gz', compression='gzip', index=False)"
   ]
  }
 ],
 "metadata": {
  "interpreter": {
   "hash": "3945e7857e547ea7693caea59328e59f73298d3559bb7892f9e87b6088b199aa"
  },
  "kernelspec": {
   "display_name": "Python 3 (ipykernel)",
   "language": "python",
   "name": "python3"
  },
  "language_info": {
   "codemirror_mode": {
    "name": "ipython",
    "version": 3
   },
   "file_extension": ".py",
   "mimetype": "text/x-python",
   "name": "python",
   "nbconvert_exporter": "python",
   "pygments_lexer": "ipython3",
   "version": "3.9.7"
  }
 },
 "nbformat": 4,
 "nbformat_minor": 2
}
